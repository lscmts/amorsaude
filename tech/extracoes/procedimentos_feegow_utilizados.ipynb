{
 "cells": [
  {
   "cell_type": "code",
   "execution_count": null,
   "metadata": {},
   "outputs": [],
   "source": [
    "query = \"\"\"\n",
    "--RELATORIO COMPLETO PROCEDIMENTOS\n",
    "--SELECT flag_utilizado, count(*) AS qtd FROM (\n",
    "WITH ap AS (\n",
    "\tSELECT DISTINCT \n",
    "\t\tap.procedimento_id\n",
    "\tFROM todos_data_lake_trusted_feegow.agendamento_procedimentos ap\n",
    "),\n",
    "cr AS (\n",
    "\tSELECT DISTINCT\n",
    "\t\tcr.id_procedimento\n",
    "\tFROM pdgt_amorsaude_financeiro.fl_contas_a_receber cr \n",
    ")\n",
    "SELECT DISTINCT  \n",
    "\tCASE WHEN cr.id_procedimento IS NOT NULL THEN '1' \n",
    "\t\t WHEN ap.procedimento_id IS NOT NULL THEN '1'\n",
    "\t\t ELSE '0' END flag_utilizado,\n",
    "\tpro.id_procedimento,\n",
    "\tpro.nome_procedimento,\n",
    "\tpro.codigo_tuss,\n",
    "\tpro.tipo_procedimento_id,\n",
    "\tpro.tipoprocedimento,\n",
    "\tpro.grupo_procedimento_id,\n",
    "\tpro.nomegrupo,\n",
    "\tpro.status_cadastro,\n",
    "\tpro.status_interface,\n",
    "\tap.procedimento_id AS id_ap,\n",
    "\tcr.id_procedimento AS id_cr\n",
    "FROM pdgt_amorsaude_backoffice.fl_procedimentos pro\n",
    "LEFT JOIN ap ON \n",
    "\tap.procedimento_id = pro.id_procedimento\n",
    "LEFT JOIN cr ON \n",
    "\tcr.id_procedimento = pro.id_procedimento\n",
    "WHERE 1=1\n",
    "--\tAND pro.id_procedimento = 367687\n",
    "--\tAND pro.nome_procedimento LIKE '%(inclui descolamento epifisário) - tratamento%'\n",
    "ORDER BY \n",
    "\tpro.id_procedimento \n",
    "--) GROUP BY flag_utilizado --WHERE flag_utilizado = 'Sim'\n",
    "\"\"\""
   ]
  }
 ],
 "metadata": {
  "language_info": {
   "name": "python"
  }
 },
 "nbformat": 4,
 "nbformat_minor": 2
}
