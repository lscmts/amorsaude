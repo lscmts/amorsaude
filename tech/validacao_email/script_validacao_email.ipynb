{
 "cells": [
  {
   "cell_type": "code",
   "execution_count": 2,
   "metadata": {},
   "outputs": [],
   "source": [
    "# importanto bibliotecas\n",
    "import pandas as pd\n",
    "import psycopg2\n",
    "\n",
    "#pacote de validação de email\n",
    "from validate_email  import validate_email"
   ]
  },
  {
   "cell_type": "code",
   "execution_count": 3,
   "metadata": {},
   "outputs": [],
   "source": [
    "# conexão redshift \n",
    "connection = psycopg2.connect(dbname=\"dw_amorsaude\",\n",
    "\n",
    "                  user=\"lucasmateus\",\n",
    "\n",
    "                  password=\"df93aS@aK0sd\",\n",
    "\n",
    "                  host =\"amorsaude-cluster-redshift.cmc4ev2oyczd.us-east-1.redshift.amazonaws.com\",\n",
    "\n",
    "                  port = 5439)"
   ]
  },
  {
   "cell_type": "code",
   "execution_count": 4,
   "metadata": {},
   "outputs": [],
   "source": [
    "# definição queries\n",
    "\n",
    "query_total =  \"\"\"select * from stg_pacientes\n",
    "where sysdate >= '2023-01-01'\"\"\""
   ]
  },
  {
   "cell_type": "code",
   "execution_count": 5,
   "metadata": {},
   "outputs": [],
   "source": [
    "# setando o dataframe completo\n",
    "\n",
    "#df = pd.read_sql_query(query_total,con=connection)"
   ]
  },
  {
   "cell_type": "code",
   "execution_count": 6,
   "metadata": {},
   "outputs": [],
   "source": [
    "# setando o df a partir do arquivo csv\n",
    "\n",
    "csv_path = '/home/lucasmateus/dbt-projects/projetos_lucas/validacao_email/base_pacientes_email.csv'\n",
    "\n",
    "df = pd.read_csv(csv_path)"
   ]
  },
  {
   "cell_type": "code",
   "execution_count": 7,
   "metadata": {},
   "outputs": [
    {
     "data": {
      "text/html": [
       "<div>\n",
       "<style scoped>\n",
       "    .dataframe tbody tr th:only-of-type {\n",
       "        vertical-align: middle;\n",
       "    }\n",
       "\n",
       "    .dataframe tbody tr th {\n",
       "        vertical-align: top;\n",
       "    }\n",
       "\n",
       "    .dataframe thead th {\n",
       "        text-align: right;\n",
       "    }\n",
       "</style>\n",
       "<table border=\"1\" class=\"dataframe\">\n",
       "  <thead>\n",
       "    <tr style=\"text-align: right;\">\n",
       "      <th></th>\n",
       "      <th>id</th>\n",
       "      <th>nome_paciente</th>\n",
       "      <th>email</th>\n",
       "    </tr>\n",
       "  </thead>\n",
       "  <tbody>\n",
       "    <tr>\n",
       "      <th>0</th>\n",
       "      <td>59202238</td>\n",
       "      <td>Nicolly Safira De Oliveira Souza</td>\n",
       "      <td>NaN</td>\n",
       "    </tr>\n",
       "    <tr>\n",
       "      <th>1</th>\n",
       "      <td>63956854</td>\n",
       "      <td>Francisca De Fatima Dourado Cardozo</td>\n",
       "      <td>fcadourado123@gmail.com</td>\n",
       "    </tr>\n",
       "    <tr>\n",
       "      <th>2</th>\n",
       "      <td>62168981</td>\n",
       "      <td>Samara Julia Pinheiro Do Nascimento</td>\n",
       "      <td>NaN</td>\n",
       "    </tr>\n",
       "    <tr>\n",
       "      <th>3</th>\n",
       "      <td>7025</td>\n",
       "      <td>Elizangela Gambeta</td>\n",
       "      <td>sdflola@hotmail.com</td>\n",
       "    </tr>\n",
       "    <tr>\n",
       "      <th>4</th>\n",
       "      <td>65</td>\n",
       "      <td>Rauni Lima Gonçalves</td>\n",
       "      <td>robertadepaula1996@hotmail.com</td>\n",
       "    </tr>\n",
       "    <tr>\n",
       "      <th>...</th>\n",
       "      <td>...</td>\n",
       "      <td>...</td>\n",
       "      <td>...</td>\n",
       "    </tr>\n",
       "    <tr>\n",
       "      <th>18008515</th>\n",
       "      <td>65321125</td>\n",
       "      <td>Ketley Bruna De Oliveira Andrade</td>\n",
       "      <td>NaN</td>\n",
       "    </tr>\n",
       "    <tr>\n",
       "      <th>18008516</th>\n",
       "      <td>65334714</td>\n",
       "      <td>Marli Rosa De Jesus</td>\n",
       "      <td>NaN</td>\n",
       "    </tr>\n",
       "    <tr>\n",
       "      <th>18008517</th>\n",
       "      <td>65343163</td>\n",
       "      <td>Edson Jacintho De Almeida Filho</td>\n",
       "      <td>NaN</td>\n",
       "    </tr>\n",
       "    <tr>\n",
       "      <th>18008518</th>\n",
       "      <td>65359370</td>\n",
       "      <td>NAOMI SIMIAO DIAS</td>\n",
       "      <td>pollysiamao@gmail.com</td>\n",
       "    </tr>\n",
       "    <tr>\n",
       "      <th>18008519</th>\n",
       "      <td>65377436</td>\n",
       "      <td>Eliane Alves Da Silva</td>\n",
       "      <td>eli1234alves1@gmail.com</td>\n",
       "    </tr>\n",
       "  </tbody>\n",
       "</table>\n",
       "<p>18008520 rows × 3 columns</p>\n",
       "</div>"
      ],
      "text/plain": [
       "                id                        nome_paciente  \\\n",
       "0         59202238     Nicolly Safira De Oliveira Souza   \n",
       "1         63956854  Francisca De Fatima Dourado Cardozo   \n",
       "2         62168981  Samara Julia Pinheiro Do Nascimento   \n",
       "3             7025                   Elizangela Gambeta   \n",
       "4               65                 Rauni Lima Gonçalves   \n",
       "...            ...                                  ...   \n",
       "18008515  65321125     Ketley Bruna De Oliveira Andrade   \n",
       "18008516  65334714                  Marli Rosa De Jesus   \n",
       "18008517  65343163      Edson Jacintho De Almeida Filho   \n",
       "18008518  65359370                    NAOMI SIMIAO DIAS   \n",
       "18008519  65377436                Eliane Alves Da Silva   \n",
       "\n",
       "                                   email  \n",
       "0                                    NaN  \n",
       "1                fcadourado123@gmail.com  \n",
       "2                                    NaN  \n",
       "3                    sdflola@hotmail.com  \n",
       "4         robertadepaula1996@hotmail.com  \n",
       "...                                  ...  \n",
       "18008515                             NaN  \n",
       "18008516                             NaN  \n",
       "18008517                             NaN  \n",
       "18008518           pollysiamao@gmail.com  \n",
       "18008519         eli1234alves1@gmail.com  \n",
       "\n",
       "[18008520 rows x 3 columns]"
      ]
     },
     "execution_count": 7,
     "metadata": {},
     "output_type": "execute_result"
    }
   ],
   "source": [
    "df"
   ]
  },
  {
   "cell_type": "code",
   "execution_count": 8,
   "metadata": {},
   "outputs": [
    {
     "ename": "",
     "evalue": "",
     "output_type": "error",
     "traceback": [
      "\u001b[1;31mCannot execute code, session has been disposed. Please try restarting the Kernel."
     ]
    },
    {
     "ename": "",
     "evalue": "",
     "output_type": "error",
     "traceback": [
      "\u001b[1;31mThe Kernel crashed while executing code in the the current cell or a previous cell. Please review the code in the cell(s) to identify a possible cause of the failure. Click <a href='https://aka.ms/vscodeJupyterKernelCrash'>here</a> for more info. View Jupyter <a href='command:jupyter.viewOutput'>log</a> for further details."
     ]
    }
   ],
   "source": [
    "# validando os registros de email\n",
    "\n",
    "valid_emails = []\n",
    "\n",
    "for index, row in df.iterrows():\n",
    "    email = row['email']\n",
    "    if validate_email(email):\n",
    "        valid_emails.append(index)"
   ]
  },
  {
   "cell_type": "code",
   "execution_count": null,
   "metadata": {},
   "outputs": [],
   "source": [
    "invalid_emails = []\n",
    "\n",
    "for index, row in df.iterrows():\n",
    "    email = row['email']\n",
    "    if not validate_email(email):\n",
    "        invalid_emails.append(index)\n",
    "\n",
    "invalid_df = df.loc[invalid_emails]"
   ]
  },
  {
   "cell_type": "code",
   "execution_count": null,
   "metadata": {},
   "outputs": [],
   "source": [
    "# exportando df com emails invalidos para feegow arrumar\n",
    "emails_invalidos = 'base_emails_invalidos.xlsx'\n",
    "\n",
    "invalid_df.to_excel(emails_invalidos, index=False)"
   ]
  }
 ],
 "metadata": {
  "kernelspec": {
   "display_name": "Python 3",
   "language": "python",
   "name": "python3"
  },
  "language_info": {
   "codemirror_mode": {
    "name": "ipython",
    "version": 3
   },
   "file_extension": ".py",
   "mimetype": "text/x-python",
   "name": "python",
   "nbconvert_exporter": "python",
   "pygments_lexer": "ipython3",
   "version": "3.10.12"
  },
  "orig_nbformat": 4
 },
 "nbformat": 4,
 "nbformat_minor": 2
}
