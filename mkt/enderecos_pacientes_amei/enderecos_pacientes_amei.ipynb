{
 "cells": [
  {
   "cell_type": "code",
   "execution_count": 33,
   "metadata": {},
   "outputs": [],
   "source": [
    "# importanto bibliotecas\n",
    "import pandas as pd\n",
    "import numpy as np\n",
    "import psycopg2\n",
    "import seaborn as sns\n",
    "import matplotlib.pyplot as plt"
   ]
  },
  {
   "cell_type": "code",
   "execution_count": 34,
   "metadata": {},
   "outputs": [],
   "source": [
    "# conexão redshift \n",
    "connection = psycopg2.connect(dbname=\"dw_amorsaude\",\n",
    "\n",
    "                  user=\"lucasmateus\",\n",
    "\n",
    "                  password=\"df93aS@aK0sd\",\n",
    "\n",
    "                  host =\"amorsaude-cluster-redshift.cmc4ev2oyczd.us-east-1.redshift.amazonaws.com\",\n",
    "\n",
    "                  port = 5439)"
   ]
  },
  {
   "cell_type": "code",
   "execution_count": 35,
   "metadata": {},
   "outputs": [],
   "source": [
    "# setando dataframe a partir do arquivo de excel e extraindo para uma lista\n",
    "excel_path = '/home/lucasmateus/dbt-projects/projetos_lucas/enderecos_pacientes_amei/pacientes Amei Sem Endereço.xlsx'\n",
    "df_excel = pd.read_excel(excel_path)\n",
    "cpf_list = df_excel['cpf'].tolist()"
   ]
  },
  {
   "cell_type": "code",
   "execution_count": 36,
   "metadata": {},
   "outputs": [],
   "source": [
    "# setando a cláusula WHERE da query\n",
    "cpf_placeholders = ', '.join(['%s'] * len(cpf_list))\n",
    "\n",
    "# definindo query\n",
    "query = f\"\"\"\n",
    "select\n",
    "\tsp.cpf,\n",
    "\tsp.nome_paciente,\n",
    "\tspe.cep,\n",
    "\tspe.cidade,\n",
    "\tspe.estado,\n",
    "\tspe.bairro,\n",
    "\tspe.logradouro,\n",
    "\tspe.numero,\n",
    "\tspe.complemento\n",
    "from stg_pacientes sp \n",
    "left join stg_paciente_endereco spe on spe.id = sp.id\n",
    "where sp.cpf IN ({cpf_placeholders})\"\"\""
   ]
  },
  {
   "cell_type": "code",
   "execution_count": 37,
   "metadata": {},
   "outputs": [
    {
     "name": "stderr",
     "output_type": "stream",
     "text": [
      "/tmp/ipykernel_646/503454361.py:2: UserWarning: pandas only supports SQLAlchemy connectable (engine/connection) or database string URI or sqlite3 DBAPI2 connection. Other DBAPI2 objects are not tested. Please consider using SQLAlchemy.\n",
      "  df = pd.read_sql_query(query,con=connection, params=cpf_list)\n"
     ]
    }
   ],
   "source": [
    "# setando o dataframe com despesas\n",
    "df = pd.read_sql_query(query,con=connection, params=cpf_list)"
   ]
  },
  {
   "cell_type": "code",
   "execution_count": 38,
   "metadata": {},
   "outputs": [],
   "source": [
    "df.to_excel('bd_endereco_feegow.xlsx', index=False)"
   ]
  }
 ],
 "metadata": {
  "kernelspec": {
   "display_name": "Python 3",
   "language": "python",
   "name": "python3"
  },
  "language_info": {
   "codemirror_mode": {
    "name": "ipython",
    "version": 3
   },
   "file_extension": ".py",
   "mimetype": "text/x-python",
   "name": "python",
   "nbconvert_exporter": "python",
   "pygments_lexer": "ipython3",
   "version": "3.10.12"
  },
  "orig_nbformat": 4
 },
 "nbformat": 4,
 "nbformat_minor": 2
}
