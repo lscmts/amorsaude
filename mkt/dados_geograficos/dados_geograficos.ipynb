{
 "cells": [
  {
   "cell_type": "code",
   "execution_count": 88,
   "metadata": {},
   "outputs": [],
   "source": [
    "import requests\n",
    "import pandas as pd\n",
    "import pprint\n",
    "import ssl\n",
    "from geopy.geocoders import Nominatim\n",
    "from geopy.distance import geodesic\n",
    "import os\n",
    "import time\n",
    "from requests.exceptions import ReadTimeout"
   ]
  },
  {
   "cell_type": "code",
   "execution_count": 11,
   "metadata": {},
   "outputs": [],
   "source": [
    "# importando bibliotecas conexão PDGT\n",
    "import json\n",
    "import argparse\n",
    "import subprocess\n",
    "import boto3\n",
    "import time\n",
    "from pyathena import connect\n",
    "import pandas.io.sql as sqlio\n",
    "import sys\n",
    "from ydata_profiling import ProfileReport\n",
    "from botocore import UNSIGNED\n",
    "from botocore.config import Config\n",
    "import boto3.session\n",
    "from botocore import exceptions\n",
    "from scipy.stats import chi2_contingency"
   ]
  },
  {
   "cell_type": "code",
   "execution_count": 12,
   "metadata": {},
   "outputs": [],
   "source": [
    "class CustomException(Exception):\n",
    "    pass"
   ]
  },
  {
   "cell_type": "code",
   "execution_count": 13,
   "metadata": {},
   "outputs": [],
   "source": [
    "# athena info"
   ]
  },
  {
   "cell_type": "code",
   "execution_count": 14,
   "metadata": {},
   "outputs": [],
   "source": [
    "# athena connection"
   ]
  },
  {
   "cell_type": "code",
   "execution_count": 15,
   "metadata": {},
   "outputs": [],
   "source": [
    "# athena connection function"
   ]
  },
  {
   "cell_type": "code",
   "execution_count": 16,
   "metadata": {},
   "outputs": [],
   "source": [
    "url = \"https://servicodados.ibge.gov.br/api/v1/pesquisas/23\" \n",
    "\n",
    "#teste 1\n",
    "#https://servicodados.ibge.gov.br/api/v3/agregados/5436/periodos/202302/variaveis/5932?localidades=N6[all]&classificacao=2[all]\n",
    "\n",
    "#teste 2\n",
    "#https://servicodados.ibge.gov.br/api/v3/agregados/1428/periodos/2010/variaveis/1188|1189?localidades=N6[all]&classificacao=2[all]|1[6795]\n",
    "\n",
    "#pesquisas\n",
    "#https://servicodados.ibge.gov.br/api/v1/pesquisas"
   ]
  },
  {
   "cell_type": "code",
   "execution_count": 17,
   "metadata": {},
   "outputs": [],
   "source": [
    "class TLSAdapter(requests.adapters.HTTPAdapter):\n",
    "    def init_poolmanager(self, *args, **kwargs):\n",
    "        ctx = ssl.create_default_context()\n",
    "        ctx.set_ciphers(\"DEFAULT@SECLEVEL=1\")\n",
    "        ctx.options |= 0x4   # <-- the key part here, OP_LEGACY_SERVER_CONNECT\n",
    "        kwargs[\"ssl_context\"] = ctx\n",
    "        return super(TLSAdapter, self).init_poolmanager(*args, **kwargs)"
   ]
  },
  {
   "cell_type": "code",
   "execution_count": 18,
   "metadata": {},
   "outputs": [],
   "source": [
    "with requests.session() as s:\n",
    "    s.mount(\"https://\", TLSAdapter())\n",
    "    response = s.get(url)\n",
    "    data = response.json()"
   ]
  },
  {
   "cell_type": "code",
   "execution_count": 19,
   "metadata": {},
   "outputs": [],
   "source": [
    "#df = pd.DataFrame(data)\n",
    "#df"
   ]
  },
  {
   "cell_type": "code",
   "execution_count": 20,
   "metadata": {},
   "outputs": [],
   "source": [
    "#df.to_excel('pesquisas_ibge.xlsx', index=False, sheet_name='pesquisas')"
   ]
  },
  {
   "cell_type": "code",
   "execution_count": 21,
   "metadata": {},
   "outputs": [
    {
     "name": "stdout",
     "output_type": "stream",
     "text": [
      "{'contexto': '101010',\n",
      " 'descricao': None,\n",
      " 'id': 23,\n",
      " 'nome': 'Censo 2010',\n",
      " 'observacao': None,\n",
      " 'periodos': [{'fonte': ['IBGE, Censo Demográfico 2010'],\n",
      "               'nota': [],\n",
      "               'periodo': '2010',\n",
      "               'publicacao': '26/09/2016 12:44:19',\n",
      "               'versao': 23}]}\n"
     ]
    }
   ],
   "source": [
    "pprint.pprint(data)"
   ]
  },
  {
   "cell_type": "code",
   "execution_count": 22,
   "metadata": {},
   "outputs": [],
   "source": [
    "#for i in range(0, len(informacoes)):\n",
    "#    currentItem = informacoes[i]\n",
    "#    df.loc[i] = [data[i]['']]"
   ]
  },
  {
   "cell_type": "code",
   "execution_count": 23,
   "metadata": {},
   "outputs": [],
   "source": [
    "#teste = pd.DataFrame(informacoes.features.tolist())\n",
    "#pd.json_normalize(teste).head()"
   ]
  },
  {
   "cell_type": "code",
   "execution_count": 71,
   "metadata": {},
   "outputs": [],
   "source": [
    "query_endereco = \"\"\"\n",
    "sql query\n",
    "\"\"\""
   ]
  },
  {
   "cell_type": "code",
   "execution_count": 72,
   "metadata": {},
   "outputs": [],
   "source": [
    "endereco_df = execute_athena_query(query_endereco)"
   ]
  },
  {
   "cell_type": "code",
   "execution_count": 73,
   "metadata": {},
   "outputs": [],
   "source": [
    "geolocator = Nominatim(user_agent=\"my_geocoder\")"
   ]
  },
  {
   "cell_type": "code",
   "execution_count": null,
   "metadata": {},
   "outputs": [],
   "source": [
    "# Initialize the geocoder\n",
    "geolocator = Nominatim(user_agent=\"my_geocoder\")\n",
    "\n",
    "minimum_delay = 1\n",
    "\n",
    "# Function to calculate the distance between two addresses\n",
    "def calcular_distancia(row):\n",
    "    try:\n",
    "        start_time = time.time()  # Record the start time\n",
    "        location1 = geolocator.geocode(row['endereco_paciente'])\n",
    "        end_time = time.time()\n",
    "        request_time = end_time - start_time\n",
    "\n",
    "        time.sleep(max(0, minimum_delay - request_time))\n",
    "\n",
    "        start_time2 = time.time()\n",
    "        location2 = geolocator.geocode(row['endereco_unidade'])\n",
    "        end_time2 = time.time()  # Record the end time\n",
    "        request_time2 = end_time2 - start_time2\n",
    "\n",
    "        time.sleep(max(0, minimum_delay - request_time2))\n",
    "\n",
    "        if location1 and location2:\n",
    "            coords1 = (location1.latitude, location1.longitude)\n",
    "            coords2 = (location2.latitude, location2.longitude)\n",
    "\n",
    "            return geodesic(coords1, coords2).kilometers\n",
    "        \n",
    "        else:\n",
    "            # If either location is None, return None to skip the row\n",
    "            return None\n",
    "        \n",
    "  #  except ReadTimeout:\n",
    "   #     # Handle ReadTimeoutError by retrying with exponential backoff\n",
    "   #     print(\"Timeout error occurred. Retrying...\")\n",
    "   #     time.sleep(2 ** retries)  # Exponential backoff\n",
    "   #     return calcular_distancia(row)  # Retry the function\n",
    "    \n",
    "    except Exception as e:\n",
    "        print(f\"An error occurred: {e}\")\n",
    "        return None\n",
    "\n",
    "# Apply the function to calculate the distance and create a 'Distancia' column\n",
    "endereco_df['distancia'] = endereco_df.apply(calcular_distancia, axis=1)\n",
    "\n",
    "# Examine the DataFrame with the distance column\n",
    "endereco_df"
   ]
  },
  {
   "cell_type": "code",
   "execution_count": null,
   "metadata": {},
   "outputs": [],
   "source": [
    "# Initialize the geocoder\n",
    "geolocator = Nominatim(user_agent=\"my_geocoder\")\n",
    "\n",
    "# Define a minimum delay between requests (in seconds)\n",
    "minimum_delay = 1.0\n",
    "\n",
    "# Function to calculate the distance between two addresses\n",
    "def calcular_distancia(row):\n",
    "    try:\n",
    "        start_time = time.time()  # Record the start time\n",
    "        location1 = geolocator.geocode(row['endereco_paciente'])\n",
    "        location2 = geolocator.geocode(row['endereco_unidade'])\n",
    "        end_time = time.time()  # Record the end time\n",
    "        request_time = end_time - start_time\n",
    "\n",
    "        if location1 and location2:\n",
    "            coords1 = (location1.latitude, location1.longitude)\n",
    "            coords2 = (location2.latitude, location2.longitude)\n",
    "            sleep_time = max(0, minimum_delay - request_time)\n",
    "            time.sleep(sleep_time)\n",
    "\n",
    "            return geodesic(coords1, coords2).kilometers\n",
    "        else:\n",
    "            # If either location is None, return None to skip the row\n",
    "            return None\n",
    "    except ReadTimeout:\n",
    "        # Handle ReadTimeoutError by retrying with exponential backoff\n",
    "        print(\"Timeout error occurred. Retrying...\")\n",
    "        time.sleep(2)  # Exponential backoff\n",
    "        return calcular_distancia(row)  # Retry the function\n",
    "    except Exception as e:\n",
    "        print(f\"An error occurred: {e}\")\n",
    "        return None\n",
    "\n",
    "# Apply the function to calculate the distance and create a 'Distancia' column\n",
    "endereco_df['distancia'] = endereco_df.apply(calcular_distancia, axis=1)\n",
    "\n",
    "# Examine the DataFrame with the distance column\n",
    "endereco_df"
   ]
  },
  {
   "cell_type": "code",
   "execution_count": null,
   "metadata": {},
   "outputs": [],
   "source": [
    "# Function to calculate the distance between two addresses\n",
    "def calcular_distancia(row):\n",
    "    try:\n",
    "        location1 = geolocator.geocode(row['endereco_paciente'])\n",
    "        location2 = geolocator.geocode(row['endereco_unidade'])\n",
    "\n",
    "        if location1 and location2:\n",
    "            coords1 = (location1.latitude, location1.longitude)\n",
    "            coords2 = (location2.latitude, location2.longitude)\n",
    "\n",
    "            # Sleep for the calculated time\n",
    "            time.sleep(1)\n",
    "\n",
    "            return geodesic(coords1, coords2).kilometers\n",
    "        else:\n",
    "            # If either location is None, return None to skip the row\n",
    "            return None\n",
    "    except Exception as e:\n",
    "        print(f\"An error occurred: {e}\")\n",
    "        return None\n",
    "\n",
    "# Apply the function to calculate the distance and create a 'Distancia' column\n",
    "endereco_df['distancia'] = endereco_df.apply(calcular_distancia, axis=1)\n",
    "\n",
    "# Examine the DataFrame with the distance column\n",
    "endereco_df"
   ]
  },
  {
   "cell_type": "code",
   "execution_count": null,
   "metadata": {},
   "outputs": [],
   "source": [
    "# Initialize the geocoder\n",
    "geolocator = Nominatim(user_agent=\"my_geocoder\")\n",
    "\n",
    "# Function to calculate the distance between two addresses\n",
    "def calcular_distancia(row):\n",
    "    try:\n",
    "        location1 = geolocator.geocode(row['endereco_paciente'])\n",
    "        location2 = geolocator.geocode(row['endereco_unidade'])\n",
    "\n",
    "        if location1 and location2:\n",
    "            coords1 = (location1.latitude, location1.longitude)\n",
    "            coords2 = (location2.latitude, location2.longitude)\n",
    "            return geodesic(coords1, coords2).kilometers\n",
    "        else:\n",
    "            # If either location is None, return None to skip the row\n",
    "            return None\n",
    "    except Exception as e:\n",
    "        print(f\"An error occurred: {e}\")\n",
    "        return None\n",
    "\n",
    "# Apply the function to calculate the distance and create a 'Distancia' column\n",
    "endereco_df['distancia'] = endereco_df.apply(calcular_distancia, axis=1)\n",
    "\n",
    "# Examine the DataFrame with the distance column\n",
    "endereco_df"
   ]
  },
  {
   "cell_type": "code",
   "execution_count": 76,
   "metadata": {},
   "outputs": [
    {
     "data": {
      "text/plain": [
       "id_paciente           0.0\n",
       "id_unidade            0.0\n",
       "unidade               0.0\n",
       "endereco_paciente     0.0\n",
       "endereco_unidade      1.0\n",
       "cidade_clinica        0.0\n",
       "distancia            42.0\n",
       "dtype: float64"
      ]
     },
     "execution_count": 76,
     "metadata": {},
     "output_type": "execute_result"
    }
   ],
   "source": [
    "endereco_df.isna().mean()*100"
   ]
  },
  {
   "cell_type": "code",
   "execution_count": 77,
   "metadata": {},
   "outputs": [],
   "source": [
    "endereco_df.to_excel('distancia_paciente_validacao.xlsx', index=False, sheet_name='base')"
   ]
  },
  {
   "cell_type": "code",
   "execution_count": 86,
   "metadata": {},
   "outputs": [
    {
     "ename": "AttributeError",
     "evalue": "'NoneType' object has no attribute 'latitude'",
     "output_type": "error",
     "traceback": [
      "\u001b[0;31m---------------------------------------------------------------------------\u001b[0m",
      "\u001b[0;31mAttributeError\u001b[0m                            Traceback (most recent call last)",
      "\u001b[1;32m/home/lucasmateus/dbt-projects/projetos_lucas/persona_amorsaude/dados_geograficos/dados_geograficos.ipynb Cell 22\u001b[0m line \u001b[0;36m2\n\u001b[1;32m      <a href='vscode-notebook-cell://wsl%2Bubuntu/home/lucasmateus/dbt-projects/projetos_lucas/persona_amorsaude/dados_geograficos/dados_geograficos.ipynb#X26sdnNjb2RlLXJlbW90ZQ%3D%3D?line=0'>1</a>\u001b[0m teste \u001b[39m=\u001b[39m geolocator\u001b[39m.\u001b[39mgeocode(\u001b[39m'\u001b[39m\u001b[39mRUA DOUTOR JOAQUIM SOARES LELIS, 415, RIBEIRÃO DAS NEVES, SP\u001b[39m\u001b[39m'\u001b[39m)\n\u001b[0;32m----> <a href='vscode-notebook-cell://wsl%2Bubuntu/home/lucasmateus/dbt-projects/projetos_lucas/persona_amorsaude/dados_geograficos/dados_geograficos.ipynb#X26sdnNjb2RlLXJlbW90ZQ%3D%3D?line=1'>2</a>\u001b[0m coords1 \u001b[39m=\u001b[39m (teste\u001b[39m.\u001b[39;49mlatitude, teste\u001b[39m.\u001b[39mlongitude)\n\u001b[1;32m      <a href='vscode-notebook-cell://wsl%2Bubuntu/home/lucasmateus/dbt-projects/projetos_lucas/persona_amorsaude/dados_geograficos/dados_geograficos.ipynb#X26sdnNjb2RlLXJlbW90ZQ%3D%3D?line=2'>3</a>\u001b[0m \u001b[39mprint\u001b[39m(teste\u001b[39m.\u001b[39mlatitude)\n\u001b[1;32m      <a href='vscode-notebook-cell://wsl%2Bubuntu/home/lucasmateus/dbt-projects/projetos_lucas/persona_amorsaude/dados_geograficos/dados_geograficos.ipynb#X26sdnNjb2RlLXJlbW90ZQ%3D%3D?line=3'>4</a>\u001b[0m \u001b[39mprint\u001b[39m(teste\u001b[39m.\u001b[39mlongitude)\n",
      "\u001b[0;31mAttributeError\u001b[0m: 'NoneType' object has no attribute 'latitude'"
     ]
    }
   ],
   "source": [
    "teste = geolocator.geocode('RUA DOUTOR JOAQUIM SOARES LELIS, 415, RIBEIRÃO DAS NEVES, SP')\n",
    "coords1 = (teste.latitude, teste.longitude)\n",
    "print(teste.latitude)\n",
    "print(teste.longitude)"
   ]
  },
  {
   "cell_type": "code",
   "execution_count": 79,
   "metadata": {},
   "outputs": [
    {
     "name": "stdout",
     "output_type": "stream",
     "text": [
      "-21.792396\n",
      "-48.17844\n"
     ]
    }
   ],
   "source": [
    "teste2 = geolocator.geocode('AVENIDA ESPANHA, 563, ARARAQUARA, SP')\n",
    "coords2 = (teste2.latitude, teste2.longitude)\n",
    "print(teste2.latitude)\n",
    "print(teste2.longitude)\n",
    "#Paulinho Pipas -> R. Dr. José Santos Neto, 54, Jardim Suzanopolis, Suzano, SP\n",
    "#paciente 56854683 endereço Rua Dr. Aniz Fadul, 1494, Vila Maluf, Suzano, SP, 08685-020\n",
    "#"
   ]
  },
  {
   "cell_type": "code",
   "execution_count": 80,
   "metadata": {},
   "outputs": [
    {
     "data": {
      "text/plain": [
       "3.147726721288721"
      ]
     },
     "execution_count": 80,
     "metadata": {},
     "output_type": "execute_result"
    }
   ],
   "source": [
    "distancia = geodesic(coords1, coords2).kilometers\n",
    "distancia"
   ]
  }
 ],
 "metadata": {
  "kernelspec": {
   "display_name": "Python 3",
   "language": "python",
   "name": "python3"
  },
  "language_info": {
   "codemirror_mode": {
    "name": "ipython",
    "version": 3
   },
   "file_extension": ".py",
   "mimetype": "text/x-python",
   "name": "python",
   "nbconvert_exporter": "python",
   "pygments_lexer": "ipython3",
   "version": "3.10.12"
  },
  "orig_nbformat": 4
 },
 "nbformat": 4,
 "nbformat_minor": 2
}
